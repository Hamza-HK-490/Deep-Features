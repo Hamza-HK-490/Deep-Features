{
 "cells": [
  {
   "cell_type": "code",
   "execution_count": 1,
   "id": "63285fa1",
   "metadata": {},
   "outputs": [],
   "source": [
    "import numpy as np\n",
    "from sklearn.svm import SVC\n",
    "from sklearn.model_selection import train_test_split\n",
    "from tensorflow.keras.applications import ResNet50\n",
    "from tensorflow.keras.preprocessing.image import load_img, img_to_array\n",
    "from tensorflow.keras.models import Model\n",
    "from sklearn.metrics import confusion_matrix\n",
    "import matplotlib.pyplot as plt\n",
    "from sklearn.metrics import confusion_matrix, precision_score, f1_score, recall_score, roc_auc_score, accuracy_score, roc_curve\n",
    "import matplotlib.pyplot as plt\n",
    "import os\n",
    "import cv2\n",
    "from sklearn.preprocessing import LabelEncoder, OneHotEncoder"
   ]
  },
  {
   "cell_type": "code",
   "execution_count": 2,
   "id": "91dad60a",
   "metadata": {},
   "outputs": [
    {
     "name": "stdout",
     "output_type": "stream",
     "text": [
      "Downloading data from https://storage.googleapis.com/tensorflow/keras-applications/resnet/resnet50_weights_tf_dim_ordering_tf_kernels_notop.h5\n",
      "94773248/94765736 [==============================] - 14s 0us/step\n",
      "94781440/94765736 [==============================] - 14s 0us/step\n"
     ]
    }
   ],
   "source": [
    "base_model = ResNet50(weights='imagenet', include_top=False)"
   ]
  },
  {
   "cell_type": "code",
   "execution_count": 3,
   "id": "6b767fd2",
   "metadata": {},
   "outputs": [],
   "source": [
    "path = 'D:\\\\Datasets\\\\orientationDatasetAug\\\\'\n",
    "dataset_path = os.listdir('D:\\\\Datasets\\\\orientationDatasetAug\\\\')\n",
    "\n",
    "# path = 'dataset/'\n",
    "# dataset_path = os.listdir('dataset')\n",
    "\n",
    "im_size = 224\n",
    "\n",
    "features_list = []\n",
    "labels_list = []\n",
    "\n",
    "for i in dataset_path:\n",
    "    data_path = path + str(i)  \n",
    "    filenames = [i for i in os.listdir(data_path) ]\n",
    "   \n",
    "    for f in filenames:\n",
    "        img = cv2.imread(data_path + '\\\\' + f)\n",
    "        img = cv2.resize(img, (im_size, im_size))\n",
    "        #features = extract_features(data_path + '/' + f)\n",
    "        img = np.array(img)\n",
    "        img = img.astype('float32') / 255.0\n",
    "        img = np.expand_dims(img, axis=0)\n",
    "        features = base_model.predict(img)  # Extract features from the fc layer\n",
    "        features = features.flatten()\n",
    "        features_list.append(features)\n",
    "        #labels_list.append(i)\n",
    "        labels_list.append((i, str('dataset_path' + '\\\\' +i) + '\\\\' + f))"
   ]
  },
  {
   "cell_type": "code",
   "execution_count": 4,
   "id": "a19beb1a",
   "metadata": {},
   "outputs": [
    {
     "name": "stdout",
     "output_type": "stream",
     "text": [
      "  Labels                     image\n",
      "0      0    dataset_path\\0\\0_1.bmp\n",
      "1      0   dataset_path\\0\\0_10.bmp\n",
      "2      0  dataset_path\\0\\0_100.bmp\n",
      "3      0  dataset_path\\0\\0_101.bmp\n",
      "4      0  dataset_path\\0\\0_102.bmp\n",
      "    Labels                      image\n",
      "955     90  dataset_path\\90\\90_95.bmp\n",
      "956     90  dataset_path\\90\\90_96.bmp\n",
      "957     90  dataset_path\\90\\90_97.bmp\n",
      "958     90  dataset_path\\90\\90_98.bmp\n",
      "959     90  dataset_path\\90\\90_99.bmp\n"
     ]
    }
   ],
   "source": [
    "import pandas as pd \n",
    "df = pd.DataFrame(data=labels_list, columns=['Labels', 'image'])\n",
    "print(df.head())\n",
    "print(df.tail())"
   ]
  },
  {
   "cell_type": "code",
   "execution_count": 5,
   "id": "a13c269c",
   "metadata": {},
   "outputs": [
    {
     "name": "stdout",
     "output_type": "stream",
     "text": [
      "['0' '0' '0' '0' '0' '0' '0' '0' '0' '0' '0' '0' '0' '0' '0' '0' '0' '0'\n",
      " '0' '0' '0' '0' '0' '0' '0' '0' '0' '0' '0' '0' '0' '0' '0' '0' '0' '0'\n",
      " '0' '0' '0' '0' '0' '0' '0' '0' '0' '0' '0' '0' '0' '0' '0' '0' '0' '0'\n",
      " '0' '0' '0' '0' '0' '0' '0' '0' '0' '0' '0' '0' '0' '0' '0' '0' '0' '0'\n",
      " '0' '0' '0' '0' '0' '0' '0' '0' '0' '0' '0' '0' '0' '0' '0' '0' '0' '0'\n",
      " '0' '0' '0' '0' '0' '0' '0' '0' '0' '0' '0' '0' '0' '0' '0' '0' '0' '0'\n",
      " '0' '0' '0' '0' '0' '0' '0' '0' '0' '0' '0' '0' '135' '135' '135' '135'\n",
      " '135' '135' '135' '135' '135' '135' '135' '135' '135' '135' '135' '135'\n",
      " '135' '135' '135' '135' '135' '135' '135' '135' '135' '135' '135' '135'\n",
      " '135' '135' '135' '135' '135' '135' '135' '135' '135' '135' '135' '135'\n",
      " '135' '135' '135' '135' '135' '135' '135' '135' '135' '135' '135' '135'\n",
      " '135' '135' '135' '135' '135' '135' '135' '135' '135' '135' '135' '135'\n",
      " '135' '135' '135' '135' '135' '135' '135' '135' '135' '135' '135' '135'\n",
      " '135' '135' '135' '135' '135' '135' '135' '135' '135' '135' '135' '135'\n",
      " '135' '135' '135' '135' '135' '135' '135' '135' '135' '135' '135' '135'\n",
      " '135' '135' '135' '135' '135' '135' '135' '135' '135' '135' '135' '135'\n",
      " '135' '135' '135' '135' '135' '135' '135' '135' '180' '180' '180' '180'\n",
      " '180' '180' '180' '180' '180' '180' '180' '180' '180' '180' '180' '180'\n",
      " '180' '180' '180' '180' '180' '180' '180' '180' '180' '180' '180' '180'\n",
      " '180' '180' '180' '180' '180' '180' '180' '180' '180' '180' '180' '180'\n",
      " '180' '180' '180' '180' '180' '180' '180' '180' '180' '180' '180' '180'\n",
      " '180' '180' '180' '180' '180' '180' '180' '180' '180' '180' '180' '180'\n",
      " '180' '180' '180' '180' '180' '180' '180' '180' '180' '180' '180' '180'\n",
      " '180' '180' '180' '180' '180' '180' '180' '180' '180' '180' '180' '180'\n",
      " '180' '180' '180' '180' '180' '180' '180' '180' '180' '180' '180' '180'\n",
      " '180' '180' '180' '180' '180' '180' '180' '180' '180' '180' '180' '180'\n",
      " '180' '180' '180' '180' '180' '180' '180' '180' '225' '225' '225' '225'\n",
      " '225' '225' '225' '225' '225' '225' '225' '225' '225' '225' '225' '225'\n",
      " '225' '225' '225' '225' '225' '225' '225' '225' '225' '225' '225' '225'\n",
      " '225' '225' '225' '225' '225' '225' '225' '225' '225' '225' '225' '225'\n",
      " '225' '225' '225' '225' '225' '225' '225' '225' '225' '225' '225' '225'\n",
      " '225' '225' '225' '225' '225' '225' '225' '225' '225' '225' '225' '225'\n",
      " '225' '225' '225' '225' '225' '225' '225' '225' '225' '225' '225' '225'\n",
      " '225' '225' '225' '225' '225' '225' '225' '225' '225' '225' '225' '225'\n",
      " '225' '225' '225' '225' '225' '225' '225' '225' '225' '225' '225' '225'\n",
      " '225' '225' '225' '225' '225' '225' '225' '225' '225' '225' '225' '225'\n",
      " '225' '225' '225' '225' '225' '225' '225' '225' '270' '270' '270' '270'\n",
      " '270' '270' '270' '270' '270' '270' '270' '270' '270' '270' '270' '270'\n",
      " '270' '270' '270' '270' '270' '270' '270' '270' '270' '270' '270' '270'\n",
      " '270' '270' '270' '270' '270' '270' '270' '270' '270' '270' '270' '270'\n",
      " '270' '270' '270' '270' '270' '270' '270' '270' '270' '270' '270' '270'\n",
      " '270' '270' '270' '270' '270' '270' '270' '270' '270' '270' '270' '270'\n",
      " '270' '270' '270' '270' '270' '270' '270' '270' '270' '270' '270' '270'\n",
      " '270' '270' '270' '270' '270' '270' '270' '270' '270' '270' '270' '270'\n",
      " '270' '270' '270' '270' '270' '270' '270' '270' '270' '270' '270' '270'\n",
      " '270' '270' '270' '270' '270' '270' '270' '270' '270' '270' '270' '270'\n",
      " '270' '270' '270' '270' '270' '270' '270' '270' '315' '315' '315' '315'\n",
      " '315' '315' '315' '315' '315' '315' '315' '315' '315' '315' '315' '315'\n",
      " '315' '315' '315' '315' '315' '315' '315' '315' '315' '315' '315' '315'\n",
      " '315' '315' '315' '315' '315' '315' '315' '315' '315' '315' '315' '315'\n",
      " '315' '315' '315' '315' '315' '315' '315' '315' '315' '315' '315' '315'\n",
      " '315' '315' '315' '315' '315' '315' '315' '315' '315' '315' '315' '315'\n",
      " '315' '315' '315' '315' '315' '315' '315' '315' '315' '315' '315' '315'\n",
      " '315' '315' '315' '315' '315' '315' '315' '315' '315' '315' '315' '315'\n",
      " '315' '315' '315' '315' '315' '315' '315' '315' '315' '315' '315' '315'\n",
      " '315' '315' '315' '315' '315' '315' '315' '315' '315' '315' '315' '315'\n",
      " '315' '315' '315' '315' '315' '315' '315' '315' '45' '45' '45' '45' '45'\n",
      " '45' '45' '45' '45' '45' '45' '45' '45' '45' '45' '45' '45' '45' '45'\n",
      " '45' '45' '45' '45' '45' '45' '45' '45' '45' '45' '45' '45' '45' '45'\n",
      " '45' '45' '45' '45' '45' '45' '45' '45' '45' '45' '45' '45' '45' '45'\n",
      " '45' '45' '45' '45' '45' '45' '45' '45' '45' '45' '45' '45' '45' '45'\n",
      " '45' '45' '45' '45' '45' '45' '45' '45' '45' '45' '45' '45' '45' '45'\n",
      " '45' '45' '45' '45' '45' '45' '45' '45' '45' '45' '45' '45' '45' '45'\n",
      " '45' '45' '45' '45' '45' '45' '45' '45' '45' '45' '45' '45' '45' '45'\n",
      " '45' '45' '45' '45' '45' '45' '45' '45' '45' '45' '45' '45' '45' '45'\n",
      " '45' '45' '45' '90' '90' '90' '90' '90' '90' '90' '90' '90' '90' '90'\n",
      " '90' '90' '90' '90' '90' '90' '90' '90' '90' '90' '90' '90' '90' '90'\n",
      " '90' '90' '90' '90' '90' '90' '90' '90' '90' '90' '90' '90' '90' '90'\n",
      " '90' '90' '90' '90' '90' '90' '90' '90' '90' '90' '90' '90' '90' '90'\n",
      " '90' '90' '90' '90' '90' '90' '90' '90' '90' '90' '90' '90' '90' '90'\n",
      " '90' '90' '90' '90' '90' '90' '90' '90' '90' '90' '90' '90' '90' '90'\n",
      " '90' '90' '90' '90' '90' '90' '90' '90' '90' '90' '90' '90' '90' '90'\n",
      " '90' '90' '90' '90' '90' '90' '90' '90' '90' '90' '90' '90' '90' '90'\n",
      " '90' '90' '90' '90' '90' '90' '90' '90' '90' '90' '90']\n",
      "[0 0 0 0 0 0 0 0 0 0 0 0 0 0 0 0 0 0 0 0 0 0 0 0 0 0 0 0 0 0 0 0 0 0 0 0 0\n",
      " 0 0 0 0 0 0 0 0 0 0 0 0 0 0 0 0 0 0 0 0 0 0 0 0 0 0 0 0 0 0 0 0 0 0 0 0 0\n",
      " 0 0 0 0 0 0 0 0 0 0 0 0 0 0 0 0 0 0 0 0 0 0 0 0 0 0 0 0 0 0 0 0 0 0 0 0 0\n",
      " 0 0 0 0 0 0 0 0 0 1 1 1 1 1 1 1 1 1 1 1 1 1 1 1 1 1 1 1 1 1 1 1 1 1 1 1 1\n",
      " 1 1 1 1 1 1 1 1 1 1 1 1 1 1 1 1 1 1 1 1 1 1 1 1 1 1 1 1 1 1 1 1 1 1 1 1 1\n",
      " 1 1 1 1 1 1 1 1 1 1 1 1 1 1 1 1 1 1 1 1 1 1 1 1 1 1 1 1 1 1 1 1 1 1 1 1 1\n",
      " 1 1 1 1 1 1 1 1 1 1 1 1 1 1 1 1 1 1 2 2 2 2 2 2 2 2 2 2 2 2 2 2 2 2 2 2 2\n",
      " 2 2 2 2 2 2 2 2 2 2 2 2 2 2 2 2 2 2 2 2 2 2 2 2 2 2 2 2 2 2 2 2 2 2 2 2 2\n",
      " 2 2 2 2 2 2 2 2 2 2 2 2 2 2 2 2 2 2 2 2 2 2 2 2 2 2 2 2 2 2 2 2 2 2 2 2 2\n",
      " 2 2 2 2 2 2 2 2 2 2 2 2 2 2 2 2 2 2 2 2 2 2 2 2 2 2 2 3 3 3 3 3 3 3 3 3 3\n",
      " 3 3 3 3 3 3 3 3 3 3 3 3 3 3 3 3 3 3 3 3 3 3 3 3 3 3 3 3 3 3 3 3 3 3 3 3 3\n",
      " 3 3 3 3 3 3 3 3 3 3 3 3 3 3 3 3 3 3 3 3 3 3 3 3 3 3 3 3 3 3 3 3 3 3 3 3 3\n",
      " 3 3 3 3 3 3 3 3 3 3 3 3 3 3 3 3 3 3 3 3 3 3 3 3 3 3 3 3 3 3 3 3 3 3 3 3 4\n",
      " 4 4 4 4 4 4 4 4 4 4 4 4 4 4 4 4 4 4 4 4 4 4 4 4 4 4 4 4 4 4 4 4 4 4 4 4 4\n",
      " 4 4 4 4 4 4 4 4 4 4 4 4 4 4 4 4 4 4 4 4 4 4 4 4 4 4 4 4 4 4 4 4 4 4 4 4 4\n",
      " 4 4 4 4 4 4 4 4 4 4 4 4 4 4 4 4 4 4 4 4 4 4 4 4 4 4 4 4 4 4 4 4 4 4 4 4 4\n",
      " 4 4 4 4 4 4 4 4 5 5 5 5 5 5 5 5 5 5 5 5 5 5 5 5 5 5 5 5 5 5 5 5 5 5 5 5 5\n",
      " 5 5 5 5 5 5 5 5 5 5 5 5 5 5 5 5 5 5 5 5 5 5 5 5 5 5 5 5 5 5 5 5 5 5 5 5 5\n",
      " 5 5 5 5 5 5 5 5 5 5 5 5 5 5 5 5 5 5 5 5 5 5 5 5 5 5 5 5 5 5 5 5 5 5 5 5 5\n",
      " 5 5 5 5 5 5 5 5 5 5 5 5 5 5 5 5 5 6 6 6 6 6 6 6 6 6 6 6 6 6 6 6 6 6 6 6 6\n",
      " 6 6 6 6 6 6 6 6 6 6 6 6 6 6 6 6 6 6 6 6 6 6 6 6 6 6 6 6 6 6 6 6 6 6 6 6 6\n",
      " 6 6 6 6 6 6 6 6 6 6 6 6 6 6 6 6 6 6 6 6 6 6 6 6 6 6 6 6 6 6 6 6 6 6 6 6 6\n",
      " 6 6 6 6 6 6 6 6 6 6 6 6 6 6 6 6 6 6 6 6 6 6 6 6 6 6 7 7 7 7 7 7 7 7 7 7 7\n",
      " 7 7 7 7 7 7 7 7 7 7 7 7 7 7 7 7 7 7 7 7 7 7 7 7 7 7 7 7 7 7 7 7 7 7 7 7 7\n",
      " 7 7 7 7 7 7 7 7 7 7 7 7 7 7 7 7 7 7 7 7 7 7 7 7 7 7 7 7 7 7 7 7 7 7 7 7 7\n",
      " 7 7 7 7 7 7 7 7 7 7 7 7 7 7 7 7 7 7 7 7 7 7 7 7 7 7 7 7 7 7 7 7 7 7 7]\n"
     ]
    }
   ],
   "source": [
    "from sklearn.preprocessing import LabelEncoder , OneHotEncoder\n",
    "y=df['Labels'].values\n",
    "print(y)\n",
    "\n",
    "y_labelencoder = LabelEncoder ()\n",
    "labels_list = y_labelencoder.fit_transform (y)\n",
    "print (labels_list)"
   ]
  },
  {
   "cell_type": "code",
   "execution_count": 6,
   "id": "dbcfaeae",
   "metadata": {},
   "outputs": [
    {
     "name": "stderr",
     "output_type": "stream",
     "text": [
      "C:\\Users\\hkdm4\\anaconda3\\envs\\cuda\\lib\\site-packages\\sklearn\\preprocessing\\_encoders.py:868: FutureWarning: `sparse` was renamed to `sparse_output` in version 1.2 and will be removed in 1.4. `sparse_output` is ignored unless you leave `sparse` to its default value.\n",
      "  warnings.warn(\n"
     ]
    }
   ],
   "source": [
    "from sklearn.preprocessing import LabelEncoder, OneHotEncoder\n",
    "y = df['Labels'].values\n",
    "\n",
    "onehot_encoder = OneHotEncoder(sparse=False)\n",
    "labels_onehot = onehot_encoder.fit_transform(labels_list.reshape(-1, 1))\n",
    "\n",
    "X_train, X_test, y_train, y_test = train_test_split(features_list, labels_list, test_size=0.2, random_state=42)"
   ]
  },
  {
   "cell_type": "code",
   "execution_count": 7,
   "id": "d9ae7ba7",
   "metadata": {},
   "outputs": [],
   "source": [
    "svm_classifier = SVC(probability=True)  \n",
    "svm_classifier.fit(X_train, y_train)\n",
    "\n",
    "y_pred_proba = svm_classifier.predict_proba(X_test)\n",
    "y_pred = svm_classifier.predict(X_test)"
   ]
  },
  {
   "cell_type": "code",
   "execution_count": 8,
   "id": "ab9bbc35",
   "metadata": {},
   "outputs": [
    {
     "data": {
      "image/png": "[encoded data removed]",
      "text/plain": [
       "<Figure size 800x600 with 2 Axes>"
      ]
     },
     "metadata": {},
     "output_type": "display_data"
    }
   ],
   "source": [
    "cm = confusion_matrix(y_test, y_pred)\n",
    "\n",
    "plt.figure(figsize=(8, 6))\n",
    "plt.imshow(cm, interpolation='nearest', cmap=plt.cm.Blues)\n",
    "plt.title('Confusion Matrix')\n",
    "plt.colorbar()\n",
    "tick_marks = np.arange(len(np.unique(y_test)))\n",
    "plt.xticks(tick_marks, np.unique(y_test), rotation=90)\n",
    "plt.yticks(tick_marks, np.unique(y_test))\n",
    "\n",
    "thresh = cm.max() / 2.0\n",
    "for i in range(cm.shape[0]):\n",
    "    for j in range(cm.shape[1]):\n",
    "        plt.text(j, i, format(cm[i, j], 'd'),\n",
    "                 ha=\"center\", va=\"center\",\n",
    "                 color=\"white\" if cm[i, j] > thresh else \"black\")\n",
    "\n",
    "plt.xlabel('Predicted label')\n",
    "plt.ylabel('True label')\n",
    "plt.tight_layout()\n",
    "plt.show()"
   ]
  },
  {
   "cell_type": "code",
   "execution_count": 9,
   "id": "6f937577",
   "metadata": {},
   "outputs": [
    {
     "name": "stdout",
     "output_type": "stream",
     "text": [
      "Accuracy: 0.08854166666666667\n",
      "Precision: 0.007839626736111112\n",
      "Recall: 0.08854166666666667\n",
      "F1 Score: 0.01440390749601276\n",
      "AUC: 0.6111622356206967\n"
     ]
    },
    {
     "name": "stderr",
     "output_type": "stream",
     "text": [
      "C:\\Users\\hkdm4\\anaconda3\\envs\\cuda\\lib\\site-packages\\sklearn\\metrics\\_classification.py:1344: UndefinedMetricWarning: Precision is ill-defined and being set to 0.0 in labels with no predicted samples. Use `zero_division` parameter to control this behavior.\n",
      "  _warn_prf(average, modifier, msg_start, len(result))\n"
     ]
    }
   ],
   "source": [
    "accuracy = accuracy_score(y_test, y_pred)\n",
    "print(\"Accuracy:\", accuracy)\n",
    "\n",
    "precision = precision_score(y_test, y_pred, average='weighted')\n",
    "print(\"Precision:\", precision)\n",
    "\n",
    "recall = recall_score(y_test, y_pred, average='weighted')\n",
    "print(\"Recall:\", recall)\n",
    "\n",
    "f1 = f1_score(y_test, y_pred, average='weighted')\n",
    "print(\"F1 Score:\", f1)\n",
    "\n",
    "auc = roc_auc_score(y_test, y_pred_proba, multi_class='ovr')\n",
    "print(\"AUC:\", auc)"
   ]
  },
  {
   "cell_type": "code",
   "execution_count": null,
   "id": "dae3ca09",
   "metadata": {},
   "outputs": [],
   "source": []
  }
 ],
 "metadata": {
  "kernelspec": {
   "display_name": "Python 3 (ipykernel)",
   "language": "python",
   "name": "python3"
  },
  "language_info": {
   "codemirror_mode": {
    "name": "ipython",
    "version": 3
   },
   "file_extension": ".py",
   "mimetype": "text/x-python",
   "name": "python",
   "nbconvert_exporter": "python",
   "pygments_lexer": "ipython3",
   "version": "3.8.0"
  }
 },
 "nbformat": 4,
 "nbformat_minor": 5
}
